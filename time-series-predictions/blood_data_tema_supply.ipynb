{
 "cells": [
  {
   "cell_type": "code",
   "execution_count": 1,
   "id": "d3f6311e-c0dc-4341-af7f-5df50021b542",
   "metadata": {},
   "outputs": [],
   "source": [
    "import pandas as pd \n",
    "import numpy as np\n",
    "\n",
    "import sys"
   ]
  },
  {
   "cell_type": "code",
   "execution_count": 2,
   "id": "04eff2ca-ee3c-43f9-9078-611c267f67b9",
   "metadata": {},
   "outputs": [],
   "source": [
    "blood_data = pd.read_csv(\"./data/Blood_data_Tema.csv\")"
   ]
  },
  {
   "cell_type": "code",
   "execution_count": 3,
   "id": "e30bdd84-5b2a-43a0-88e4-2a4b5abd6981",
   "metadata": {},
   "outputs": [
    {
     "data": {
      "text/plain": [
       "YEAR             0\n",
       "MONTH            0\n",
       "QTY_DEMANDED    13\n",
       "QTY_SUPPLIED     9\n",
       "dtype: int64"
      ]
     },
     "execution_count": 3,
     "metadata": {},
     "output_type": "execute_result"
    }
   ],
   "source": [
    "blood_data.isna().sum()"
   ]
  },
  {
   "cell_type": "code",
   "execution_count": 4,
   "id": "82892c40-3f62-4b6a-88b5-f34ec6f9c6ee",
   "metadata": {},
   "outputs": [],
   "source": [
    "blood_data_without_na = blood_data.fillna({\"QTY_DEMANDED\": 0, \"QTY_SUPPLIED\": 0})  # Replace NaNs with 0"
   ]
  },
  {
   "cell_type": "code",
   "execution_count": 5,
   "id": "72ddb96f-5828-44e6-a345-69b652433d2f",
   "metadata": {},
   "outputs": [
    {
     "data": {
      "text/plain": [
       "YEAR            0\n",
       "MONTH           0\n",
       "QTY_DEMANDED    0\n",
       "QTY_SUPPLIED    0\n",
       "dtype: int64"
      ]
     },
     "execution_count": 5,
     "metadata": {},
     "output_type": "execute_result"
    }
   ],
   "source": [
    "blood_data_without_na.isna().sum()"
   ]
  },
  {
   "cell_type": "code",
   "execution_count": 6,
   "id": "8e900215-eb26-4719-a420-a9c6f926cfeb",
   "metadata": {},
   "outputs": [
    {
     "data": {
      "text/html": [
       "<div>\n",
       "<style scoped>\n",
       "    .dataframe tbody tr th:only-of-type {\n",
       "        vertical-align: middle;\n",
       "    }\n",
       "\n",
       "    .dataframe tbody tr th {\n",
       "        vertical-align: top;\n",
       "    }\n",
       "\n",
       "    .dataframe thead th {\n",
       "        text-align: right;\n",
       "    }\n",
       "</style>\n",
       "<table border=\"1\" class=\"dataframe\">\n",
       "  <thead>\n",
       "    <tr style=\"text-align: right;\">\n",
       "      <th></th>\n",
       "      <th>YEAR</th>\n",
       "      <th>MONTH</th>\n",
       "      <th>QTY_DEMANDED</th>\n",
       "      <th>QTY_SUPPLIED</th>\n",
       "    </tr>\n",
       "  </thead>\n",
       "  <tbody>\n",
       "    <tr>\n",
       "      <th>0</th>\n",
       "      <td>2013</td>\n",
       "      <td>January</td>\n",
       "      <td>162.0</td>\n",
       "      <td>136.0</td>\n",
       "    </tr>\n",
       "    <tr>\n",
       "      <th>1</th>\n",
       "      <td>2013</td>\n",
       "      <td>February</td>\n",
       "      <td>188.0</td>\n",
       "      <td>202.0</td>\n",
       "    </tr>\n",
       "    <tr>\n",
       "      <th>2</th>\n",
       "      <td>2013</td>\n",
       "      <td>March</td>\n",
       "      <td>229.0</td>\n",
       "      <td>225.0</td>\n",
       "    </tr>\n",
       "    <tr>\n",
       "      <th>3</th>\n",
       "      <td>2013</td>\n",
       "      <td>April</td>\n",
       "      <td>220.0</td>\n",
       "      <td>204.0</td>\n",
       "    </tr>\n",
       "    <tr>\n",
       "      <th>4</th>\n",
       "      <td>2013</td>\n",
       "      <td>May</td>\n",
       "      <td>252.0</td>\n",
       "      <td>251.0</td>\n",
       "    </tr>\n",
       "  </tbody>\n",
       "</table>\n",
       "</div>"
      ],
      "text/plain": [
       "   YEAR     MONTH  QTY_DEMANDED  QTY_SUPPLIED\n",
       "0  2013   January         162.0         136.0\n",
       "1  2013  February         188.0         202.0\n",
       "2  2013     March         229.0         225.0\n",
       "3  2013     April         220.0         204.0\n",
       "4  2013       May         252.0         251.0"
      ]
     },
     "execution_count": 6,
     "metadata": {},
     "output_type": "execute_result"
    }
   ],
   "source": [
    "blood_data_without_na.head()"
   ]
  },
  {
   "cell_type": "code",
   "execution_count": 7,
   "id": "19b0aab2-3575-46c3-bc2e-699acfbd6709",
   "metadata": {},
   "outputs": [
    {
     "data": {
      "image/png": "[encoded data removed]",
      "text/plain": [
       "<Figure size 3000x400 with 1 Axes>"
      ]
     },
     "metadata": {},
     "output_type": "display_data"
    }
   ],
   "source": [
    "import matplotlib.pyplot as plt\n",
    "\n",
    "fig, axs = plt.subplots(figsize=(30, 4))\n",
    "\n",
    "blood_data_without_na['QTY_SUPPLIED'].plot(kind='bar', rot=0, ax=axs)\n",
    "\n",
    "plt.xlabel(\"Date \");  # custom x label using Matplotlib\n",
    "\n",
    "plt.ylabel(\"Quantity Supplied\");"
   ]
  },
  {
   "cell_type": "code",
   "execution_count": 8,
   "id": "a07d5f71-1f0c-40a3-871c-b1a49ee8b4b7",
   "metadata": {},
   "outputs": [],
   "source": [
    "years = blood_data_without_na[\"YEAR\"].unique().tolist()\n",
    "months = blood_data_without_na[\"MONTH\"].unique().tolist()"
   ]
  },
  {
   "cell_type": "code",
   "execution_count": 9,
   "id": "6ad6a79d-9da1-4a33-945d-eae5e9e491a3",
   "metadata": {},
   "outputs": [
    {
     "data": {
      "text/plain": [
       "[2013, 2014, 2015, 2016, 2017, 2018, 2019, 2020]"
      ]
     },
     "execution_count": 9,
     "metadata": {},
     "output_type": "execute_result"
    }
   ],
   "source": [
    "years"
   ]
  },
  {
   "cell_type": "code",
   "execution_count": 10,
   "id": "9172f9f4-ad3e-493a-96c9-571265fa3489",
   "metadata": {},
   "outputs": [
    {
     "data": {
      "text/plain": [
       "['January',\n",
       " 'February',\n",
       " 'March',\n",
       " 'April',\n",
       " 'May',\n",
       " 'June',\n",
       " 'July',\n",
       " 'August',\n",
       " 'September',\n",
       " 'October',\n",
       " 'November',\n",
       " 'December']"
      ]
     },
     "execution_count": 10,
     "metadata": {},
     "output_type": "execute_result"
    }
   ],
   "source": [
    "months"
   ]
  },
  {
   "cell_type": "code",
   "execution_count": 11,
   "id": "5597d420-3748-4113-8968-5f69845d1f6c",
   "metadata": {},
   "outputs": [],
   "source": [
    "blood_data_yearly = blood_data_without_na.groupby(\"YEAR\")[[\"QTY_DEMANDED\", \"QTY_SUPPLIED\"]].sum().reset_index()"
   ]
  },
  {
   "cell_type": "code",
   "execution_count": 12,
   "id": "d1c779e5-dafa-4d15-826d-4e3d08b3209a",
   "metadata": {},
   "outputs": [
    {
     "data": {
      "text/html": [
       "<div>\n",
       "<style scoped>\n",
       "    .dataframe tbody tr th:only-of-type {\n",
       "        vertical-align: middle;\n",
       "    }\n",
       "\n",
       "    .dataframe tbody tr th {\n",
       "        vertical-align: top;\n",
       "    }\n",
       "\n",
       "    .dataframe thead th {\n",
       "        text-align: right;\n",
       "    }\n",
       "</style>\n",
       "<table border=\"1\" class=\"dataframe\">\n",
       "  <thead>\n",
       "    <tr style=\"text-align: right;\">\n",
       "      <th></th>\n",
       "      <th>YEAR</th>\n",
       "      <th>QTY_DEMANDED</th>\n",
       "      <th>QTY_SUPPLIED</th>\n",
       "    </tr>\n",
       "  </thead>\n",
       "  <tbody>\n",
       "    <tr>\n",
       "      <th>0</th>\n",
       "      <td>2013</td>\n",
       "      <td>2918.0</td>\n",
       "      <td>2791.0</td>\n",
       "    </tr>\n",
       "    <tr>\n",
       "      <th>1</th>\n",
       "      <td>2014</td>\n",
       "      <td>3067.0</td>\n",
       "      <td>3699.0</td>\n",
       "    </tr>\n",
       "    <tr>\n",
       "      <th>2</th>\n",
       "      <td>2015</td>\n",
       "      <td>3071.0</td>\n",
       "      <td>4684.0</td>\n",
       "    </tr>\n",
       "    <tr>\n",
       "      <th>3</th>\n",
       "      <td>2016</td>\n",
       "      <td>2457.0</td>\n",
       "      <td>5286.0</td>\n",
       "    </tr>\n",
       "    <tr>\n",
       "      <th>4</th>\n",
       "      <td>2017</td>\n",
       "      <td>3872.0</td>\n",
       "      <td>5717.0</td>\n",
       "    </tr>\n",
       "    <tr>\n",
       "      <th>5</th>\n",
       "      <td>2018</td>\n",
       "      <td>4257.0</td>\n",
       "      <td>4999.0</td>\n",
       "    </tr>\n",
       "    <tr>\n",
       "      <th>6</th>\n",
       "      <td>2019</td>\n",
       "      <td>3696.0</td>\n",
       "      <td>6017.0</td>\n",
       "    </tr>\n",
       "    <tr>\n",
       "      <th>7</th>\n",
       "      <td>2020</td>\n",
       "      <td>2815.0</td>\n",
       "      <td>3778.0</td>\n",
       "    </tr>\n",
       "  </tbody>\n",
       "</table>\n",
       "</div>"
      ],
      "text/plain": [
       "   YEAR  QTY_DEMANDED  QTY_SUPPLIED\n",
       "0  2013        2918.0        2791.0\n",
       "1  2014        3067.0        3699.0\n",
       "2  2015        3071.0        4684.0\n",
       "3  2016        2457.0        5286.0\n",
       "4  2017        3872.0        5717.0\n",
       "5  2018        4257.0        4999.0\n",
       "6  2019        3696.0        6017.0\n",
       "7  2020        2815.0        3778.0"
      ]
     },
     "execution_count": 12,
     "metadata": {},
     "output_type": "execute_result"
    }
   ],
   "source": [
    "blood_data_yearly"
   ]
  },
  {
   "cell_type": "code",
   "execution_count": 13,
   "id": "57b52fab-81e0-4744-899c-b65493c343cf",
   "metadata": {},
   "outputs": [
    {
     "data": {
      "text/plain": [
       "array([[<Axes: title={'center': 'QTY_DEMANDED'}>,\n",
       "        <Axes: title={'center': 'QTY_SUPPLIED'}>]], dtype=object)"
      ]
     },
     "execution_count": 13,
     "metadata": {},
     "output_type": "execute_result"
    },
    {
     "data": {
      "image/png": "[encoded data removed]",
      "text/plain": [
       "<Figure size 640x480 with 2 Axes>"
      ]
     },
     "metadata": {},
     "output_type": "display_data"
    }
   ],
   "source": [
    "blood_data_yearly[[\"QTY_DEMANDED\", \"QTY_SUPPLIED\"]].hist()"
   ]
  },
  {
   "cell_type": "markdown",
   "id": "10111b93-8533-46e4-9d59-cd2971e92f15",
   "metadata": {},
   "source": [
    "## Scaling the data"
   ]
  },
  {
   "cell_type": "code",
   "execution_count": 14,
   "id": "3ed3a421-d848-4caf-8fc1-df8a56bb3abb",
   "metadata": {},
   "outputs": [],
   "source": [
    "from sklearn.preprocessing import MinMaxScaler\n",
    "\n",
    "\n",
    "year_scaler = MinMaxScaler()\n",
    "month_scaler = MinMaxScaler()\n",
    "\n",
    "scaled_blood_data_yearly = blood_data_yearly.copy()\n",
    "scaled_blood_data_monthly = blood_data_without_na.copy()\n",
    "\n",
    "scaled_blood_data_yearly[[\"QTY_DEMANDED\",\"QTY_SUPPLIED\"]] = year_scaler.fit_transform(blood_data_yearly[[\"QTY_DEMANDED\",\"QTY_SUPPLIED\"]])\n",
    "scaled_blood_data_monthly[[\"QTY_DEMANDED\",\"QTY_SUPPLIED\"]] = month_scaler.fit_transform(blood_data_without_na[[\"QTY_DEMANDED\",\"QTY_SUPPLIED\"]])"
   ]
  },
  {
   "cell_type": "code",
   "execution_count": 15,
   "id": "73ca1044-ac06-4857-8869-23a0706d1849",
   "metadata": {},
   "outputs": [
    {
     "data": {
      "text/html": [
       "<div>\n",
       "<style scoped>\n",
       "    .dataframe tbody tr th:only-of-type {\n",
       "        vertical-align: middle;\n",
       "    }\n",
       "\n",
       "    .dataframe tbody tr th {\n",
       "        vertical-align: top;\n",
       "    }\n",
       "\n",
       "    .dataframe thead th {\n",
       "        text-align: right;\n",
       "    }\n",
       "</style>\n",
       "<table border=\"1\" class=\"dataframe\">\n",
       "  <thead>\n",
       "    <tr style=\"text-align: right;\">\n",
       "      <th></th>\n",
       "      <th>YEAR</th>\n",
       "      <th>QTY_DEMANDED</th>\n",
       "      <th>QTY_SUPPLIED</th>\n",
       "    </tr>\n",
       "  </thead>\n",
       "  <tbody>\n",
       "    <tr>\n",
       "      <th>0</th>\n",
       "      <td>2013</td>\n",
       "      <td>0.256111</td>\n",
       "      <td>0.000000</td>\n",
       "    </tr>\n",
       "    <tr>\n",
       "      <th>1</th>\n",
       "      <td>2014</td>\n",
       "      <td>0.338889</td>\n",
       "      <td>0.281463</td>\n",
       "    </tr>\n",
       "    <tr>\n",
       "      <th>2</th>\n",
       "      <td>2015</td>\n",
       "      <td>0.341111</td>\n",
       "      <td>0.586795</td>\n",
       "    </tr>\n",
       "    <tr>\n",
       "      <th>3</th>\n",
       "      <td>2016</td>\n",
       "      <td>0.000000</td>\n",
       "      <td>0.773404</td>\n",
       "    </tr>\n",
       "    <tr>\n",
       "      <th>4</th>\n",
       "      <td>2017</td>\n",
       "      <td>0.786111</td>\n",
       "      <td>0.907006</td>\n",
       "    </tr>\n",
       "    <tr>\n",
       "      <th>5</th>\n",
       "      <td>2018</td>\n",
       "      <td>1.000000</td>\n",
       "      <td>0.684439</td>\n",
       "    </tr>\n",
       "    <tr>\n",
       "      <th>6</th>\n",
       "      <td>2019</td>\n",
       "      <td>0.688333</td>\n",
       "      <td>1.000000</td>\n",
       "    </tr>\n",
       "    <tr>\n",
       "      <th>7</th>\n",
       "      <td>2020</td>\n",
       "      <td>0.198889</td>\n",
       "      <td>0.305952</td>\n",
       "    </tr>\n",
       "  </tbody>\n",
       "</table>\n",
       "</div>"
      ],
      "text/plain": [
       "   YEAR  QTY_DEMANDED  QTY_SUPPLIED\n",
       "0  2013      0.256111      0.000000\n",
       "1  2014      0.338889      0.281463\n",
       "2  2015      0.341111      0.586795\n",
       "3  2016      0.000000      0.773404\n",
       "4  2017      0.786111      0.907006\n",
       "5  2018      1.000000      0.684439\n",
       "6  2019      0.688333      1.000000\n",
       "7  2020      0.198889      0.305952"
      ]
     },
     "execution_count": 15,
     "metadata": {},
     "output_type": "execute_result"
    }
   ],
   "source": [
    "scaled_blood_data_yearly"
   ]
  },
  {
   "cell_type": "markdown",
   "id": "d3d86780-07e9-45a2-8708-b9a249b31558",
   "metadata": {},
   "source": [
    "## Creating the model"
   ]
  },
  {
   "cell_type": "code",
   "execution_count": 16,
   "id": "d0cab96c-94c6-4d4d-b772-8b566d782e2b",
   "metadata": {},
   "outputs": [
    {
     "name": "stdout",
     "output_type": "stream",
     "text": [
      "WARNING:tensorflow:From C:\\Users\\prash\\AppData\\Local\\Programs\\Python\\Python311\\Lib\\site-packages\\keras\\src\\losses.py:2976: The name tf.losses.sparse_softmax_cross_entropy is deprecated. Please use tf.compat.v1.losses.sparse_softmax_cross_entropy instead.\n",
      "\n"
     ]
    }
   ],
   "source": [
    "import tensorflow as tf \n",
    "import keras\n",
    "\n",
    "from keras.layers import LSTM, Input, Dropout, Embedding, Dense, add\n",
    "from keras import Model\n",
    "from keras.utils import plot_model"
   ]
  },
  {
   "cell_type": "code",
   "execution_count": 17,
   "id": "a0521980-ed00-45d6-a7f6-449feb8ae6b8",
   "metadata": {},
   "outputs": [],
   "source": [
    "# model parameters\n",
    "\n",
    "N_INPUT_YEARS = 4\n",
    "N_INPUT_MONTHS = 6\n",
    "\n",
    "DROP_OUT_RATE = 0.2\n",
    "\n",
    "BATCH_SIZE = 16\n",
    "N_EPOCHS = 10\n"
   ]
  },
  {
   "cell_type": "code",
   "execution_count": 18,
   "id": "9ac85e3d-96c0-4c21-b5d5-c20b7d64a56b",
   "metadata": {},
   "outputs": [],
   "source": [
    "\n",
    "def get_model():\n",
    "    year_input_layer = Input(shape=((N_INPUT_YEARS,1 )))\n",
    "    year_lstm_layer = LSTM(128, name=\"year_lstm\")(year_input_layer)\n",
    "    year_fc_1 = Dense(256)(year_lstm_layer)\n",
    "    year_dropout = Dropout(DROP_OUT_RATE)(year_fc_1)\n",
    "    year_fc_2 = Dense(500)(year_dropout)\n",
    "    \n",
    "    month_input_layer = Input(shape=((N_INPUT_MONTHS, 1)))\n",
    "    month_lstm_layer = LSTM(128, name=\"month_lstm\")(month_input_layer)\n",
    "    month_fc_1 = Dense(256)(month_lstm_layer)\n",
    "    month_dropout = Dropout(DROP_OUT_RATE)(month_fc_1)\n",
    "    month_fc_2 = Dense(500)(month_dropout)\n",
    "    \n",
    "    combine = add([year_fc_2, month_fc_2])\n",
    "    dense_decoder = Dense(256, activation='relu')(combine)\n",
    "\n",
    "    output = Dense(1, activation=\"sigmoid\")(dense_decoder)\n",
    "\n",
    "    return Model(inputs=[year_input_layer, month_input_layer], outputs=output)\n"
   ]
  },
  {
   "cell_type": "code",
   "execution_count": 19,
   "id": "d75d70a2-16a4-4342-aae6-b113008106b3",
   "metadata": {},
   "outputs": [
    {
     "name": "stdout",
     "output_type": "stream",
     "text": [
      "WARNING:tensorflow:From C:\\Users\\prash\\AppData\\Local\\Programs\\Python\\Python311\\Lib\\site-packages\\keras\\src\\backend.py:1398: The name tf.executing_eagerly_outside_functions is deprecated. Please use tf.compat.v1.executing_eagerly_outside_functions instead.\n",
      "\n",
      "You must install pydot (`pip install pydot`) and install graphviz (see instructions at https://graphviz.gitlab.io/download/) for plot_model to work.\n"
     ]
    }
   ],
   "source": [
    "model = get_model()\n",
    "\n",
    "plot_model(model, to_file=\"model.png\", show_shapes=True, show_layer_names=True)\n"
   ]
  },
  {
   "cell_type": "code",
   "execution_count": 20,
   "id": "8b476ff2-6d18-4d51-b679-8536686a85bc",
   "metadata": {},
   "outputs": [],
   "source": [
    "opt = keras.optimizers.Adam(learning_rate=1e-3)\n",
    "model.compile(optimizer=opt, loss=\"mse\", metrics=[\"mae\"])"
   ]
  },
  {
   "cell_type": "code",
   "execution_count": 21,
   "id": "c9804a7d-2295-41e5-aa3d-7add4801ca6a",
   "metadata": {},
   "outputs": [],
   "source": [
    "def data_generator(batch_size=16, batch_size_year: int = 4, batch_size_month: int = 6):\n",
    "    len_scaled_blood_data_yearly = len(scaled_blood_data_yearly)\n",
    "    start_year = scaled_blood_data_yearly.loc[0, \"YEAR\"]\n",
    "    while True:\n",
    "        yr_inputs, mth_inputs, outputs = [], [], []\n",
    "        sample = 0\n",
    "        \n",
    "        for i in range(1, len_scaled_blood_data_yearly - batch_size_year - 1):\n",
    "            current_year = scaled_blood_data_yearly.loc[i, \"YEAR\"]\n",
    "            next_year_data = scaled_blood_data_monthly[scaled_blood_data_monthly[\"YEAR\"] == current_year + 1]\n",
    "    \n",
    "            year_input_data = scaled_blood_data_yearly.loc[i: i+batch_size_year - 1, \"QTY_SUPPLIED\"]\n",
    "    \n",
    "            for j in range(12):\n",
    "                month_input_data = scaled_blood_data_monthly.loc[(current_year - start_year) * 12 + j + 1 - batch_size_month : (current_year - start_year) * 12 + j, \"QTY_DEMANDED\"]\n",
    "                to_predict = scaled_blood_data_monthly.loc[(current_year - start_year) * 12 + j + 1, \"QTY_SUPPLIED\"]\n",
    "                \n",
    "                yr_inputs.append(year_input_data.values)\n",
    "                mth_inputs.append(month_input_data.values)\n",
    "                outputs.append(to_predict)\n",
    "                sample += 1\n",
    "    \n",
    "    \n",
    "                if sample >= batch_size:\n",
    "                    sample = 0\n",
    "                    yield ([np.array(yr_inputs), np.array(mth_inputs)], np.array(outputs))\n",
    "                    \n",
    "                    yr_inputs, mth_inputs, outputs = [], [], []\n",
    "    \n",
    "                    "
   ]
  },
  {
   "cell_type": "code",
   "execution_count": 22,
   "id": "8d36bf48-58be-45b3-b0c0-8cfcef7b23ae",
   "metadata": {},
   "outputs": [
    {
     "name": "stdout",
     "output_type": "stream",
     "text": [
      "Epoch 1/10\n",
      "WARNING:tensorflow:From C:\\Users\\prash\\AppData\\Local\\Programs\\Python\\Python311\\Lib\\site-packages\\keras\\src\\utils\\tf_utils.py:492: The name tf.ragged.RaggedTensorValue is deprecated. Please use tf.compat.v1.ragged.RaggedTensorValue instead.\n",
      "\n",
      "WARNING:tensorflow:From C:\\Users\\prash\\AppData\\Local\\Programs\\Python\\Python311\\Lib\\site-packages\\keras\\src\\engine\\base_layer_utils.py:384: The name tf.executing_eagerly_outside_functions is deprecated. Please use tf.compat.v1.executing_eagerly_outside_functions instead.\n",
      "\n",
      "50/50 [==============================] - 12s 17ms/step - loss: 0.0082 - mae: 0.0732\n",
      "Epoch 2/10\n",
      "50/50 [==============================] - 1s 19ms/step - loss: 0.0039 - mae: 0.0527\n",
      "Epoch 3/10\n",
      "50/50 [==============================] - 1s 20ms/step - loss: 0.0031 - mae: 0.0466\n",
      "Epoch 4/10\n",
      "50/50 [==============================] - 1s 20ms/step - loss: 0.0020 - mae: 0.0351\n",
      "Epoch 5/10\n",
      "50/50 [==============================] - 1s 17ms/step - loss: 0.0014 - mae: 0.0297\n",
      "Epoch 6/10\n",
      "50/50 [==============================] - 1s 13ms/step - loss: 8.9520e-04 - mae: 0.0227\n",
      "Epoch 7/10\n",
      "50/50 [==============================] - 1s 18ms/step - loss: 6.4014e-04 - mae: 0.0185\n",
      "Epoch 8/10\n",
      "50/50 [==============================] - 1s 18ms/step - loss: 4.9453e-04 - mae: 0.0163\n",
      "Epoch 9/10\n",
      "50/50 [==============================] - 1s 16ms/step - loss: 2.8492e-04 - mae: 0.0127\n",
      "Epoch 10/10\n",
      "50/50 [==============================] - 1s 15ms/step - loss: 1.5844e-04 - mae: 0.0093\n"
     ]
    }
   ],
   "source": [
    "default_data_generator = data_generator(batch_size=16)\n",
    "\n",
    "steps_per_epoch = 50\n",
    "\n",
    "history = model.fit(\n",
    "        default_data_generator, \n",
    "        epochs=N_EPOCHS, \n",
    "        steps_per_epoch=steps_per_epoch, \n",
    "        verbose=1,\n",
    ")"
   ]
  },
  {
   "cell_type": "code",
   "execution_count": 23,
   "id": "a2b0d5a2-7e7b-4f2b-981b-b3f8bbfc7130",
   "metadata": {},
   "outputs": [
    {
     "name": "stderr",
     "output_type": "stream",
     "text": [
      "C:\\Users\\prash\\AppData\\Local\\Programs\\Python\\Python311\\Lib\\site-packages\\sklearn\\base.py:493: UserWarning: X does not have valid feature names, but MinMaxScaler was fitted with feature names\n",
      "  warnings.warn(\n",
      "C:\\Users\\prash\\AppData\\Local\\Programs\\Python\\Python311\\Lib\\site-packages\\sklearn\\base.py:493: UserWarning: X does not have valid feature names, but MinMaxScaler was fitted with feature names\n",
      "  warnings.warn(\n"
     ]
    },
    {
     "name": "stdout",
     "output_type": "stream",
     "text": [
      "1/1 [==============================] - 2s 2s/step\n"
     ]
    },
    {
     "data": {
      "text/plain": [
       "array([[0.19454116]], dtype=float32)"
      ]
     },
     "execution_count": 23,
     "metadata": {},
     "output_type": "execute_result"
    }
   ],
   "source": [
    "year_inputs = year_scaler.transform([[1000,1000],[3000,3000], [2000,2000], [1500,1500]])\n",
    "months_inputs = month_scaler.transform([[100,100],[200,200], [150,150], [250,250], [300,300], [100,100]])\n",
    "\n",
    "\n",
    "predictions = model.predict([np.array(year_inputs[:, 1]).reshape(1, N_INPUT_YEARS), np.array(months_inputs[:, 1]).reshape(1, N_INPUT_MONTHS)])\n",
    "\n",
    "predictions\n"
   ]
  },
  {
   "cell_type": "code",
   "execution_count": 24,
   "id": "f8da3cd6-dbff-47ab-9a5c-38141085aed7",
   "metadata": {},
   "outputs": [
    {
     "data": {
      "text/plain": [
       "array(['QTY_DEMANDED', 'QTY_SUPPLIED'], dtype=object)"
      ]
     },
     "execution_count": 24,
     "metadata": {},
     "output_type": "execute_result"
    }
   ],
   "source": [
    "month_scaler.get_feature_names_out()"
   ]
  },
  {
   "cell_type": "code",
   "execution_count": 25,
   "id": "177f42f9-d14e-4404-8052-8f09f274f932",
   "metadata": {},
   "outputs": [
    {
     "name": "stdout",
     "output_type": "stream",
     "text": [
      "[237.53475183]\n"
     ]
    }
   ],
   "source": [
    "# Add a dummy feature (zeros)\n",
    "dummy_feature = np.zeros((predictions.shape[0], 1))\n",
    "predictions_with_dummy = np.hstack([predictions, dummy_feature])\n",
    "\n",
    "# Transform using the scaler\n",
    "transformed = month_scaler.inverse_transform(predictions_with_dummy)\n",
    "\n",
    "# Extract only the transformed feature\n",
    "transformed_predictions = transformed[:, 0]\n",
    "\n",
    "print(transformed_predictions)"
   ]
  },
  {
   "cell_type": "code",
   "execution_count": 26,
   "id": "ff56c0ee-9767-4d7a-8739-b1b4ffde2a40",
   "metadata": {},
   "outputs": [
    {
     "data": {
      "text/plain": [
       "array(['QTY_DEMANDED', 'QTY_SUPPLIED'], dtype=object)"
      ]
     },
     "execution_count": 26,
     "metadata": {},
     "output_type": "execute_result"
    }
   ],
   "source": [
    "year_scaler.get_feature_names_out()"
   ]
  },
  {
   "cell_type": "code",
   "execution_count": 27,
   "id": "aaede224-f1d7-4fd2-8318-c0ee9046d5f0",
   "metadata": {},
   "outputs": [
    {
     "data": {
      "text/plain": [
       "array([2457., 2791.])"
      ]
     },
     "execution_count": 27,
     "metadata": {},
     "output_type": "execute_result"
    }
   ],
   "source": [
    "year_scaler.data_min_"
   ]
  },
  {
   "cell_type": "code",
   "execution_count": 28,
   "id": "e853ace9-15c3-45a6-939a-3e27269c6e9c",
   "metadata": {},
   "outputs": [
    {
     "data": {
      "text/plain": [
       "array([4257., 6017.])"
      ]
     },
     "execution_count": 28,
     "metadata": {},
     "output_type": "execute_result"
    }
   ],
   "source": [
    "year_scaler.data_max_"
   ]
  },
  {
   "cell_type": "code",
   "execution_count": 29,
   "id": "d93bd811-eb3f-4f6f-9802-4bcbf0482ad7",
   "metadata": {},
   "outputs": [
    {
     "data": {
      "text/plain": [
       "array(['QTY_DEMANDED', 'QTY_SUPPLIED'], dtype=object)"
      ]
     },
     "execution_count": 29,
     "metadata": {},
     "output_type": "execute_result"
    }
   ],
   "source": [
    "month_scaler.get_feature_names_out()"
   ]
  },
  {
   "cell_type": "code",
   "execution_count": 30,
   "id": "86eee7ae-ca97-4edb-8dc1-9d22b5bc363f",
   "metadata": {},
   "outputs": [
    {
     "data": {
      "text/plain": [
       "array([0., 0.])"
      ]
     },
     "execution_count": 30,
     "metadata": {},
     "output_type": "execute_result"
    }
   ],
   "source": [
    "month_scaler.data_min_"
   ]
  },
  {
   "cell_type": "code",
   "execution_count": 31,
   "id": "f8da0f39-4e2b-4e20-9e53-fd09e92cdb34",
   "metadata": {},
   "outputs": [
    {
     "data": {
      "text/plain": [
       "array([1221.,  961.])"
      ]
     },
     "execution_count": 31,
     "metadata": {},
     "output_type": "execute_result"
    }
   ],
   "source": [
    "month_scaler.data_max_"
   ]
  },
  {
   "cell_type": "code",
   "execution_count": 32,
   "id": "6a5cd7b7-dd54-4353-94eb-0b866b4de68b",
   "metadata": {},
   "outputs": [],
   "source": [
    "model.save(\"./models/supply_model.keras\")"
   ]
  },
  {
   "cell_type": "code",
   "execution_count": null,
   "id": "e7e52d05-4d22-4cc4-bf68-3bb14a54dc8d",
   "metadata": {},
   "outputs": [],
   "source": []
  }
 ],
 "metadata": {
  "kernelspec": {
   "display_name": "Python 3 (ipykernel)",
   "language": "python",
   "name": "python3"
  },
  "language_info": {
   "codemirror_mode": {
    "name": "ipython",
    "version": 3
   },
   "file_extension": ".py",
   "mimetype": "text/x-python",
   "name": "python",
   "nbconvert_exporter": "python",
   "pygments_lexer": "ipython3",
   "version": "3.11.5"
  }
 },
 "nbformat": 4,
 "nbformat_minor": 5
}
